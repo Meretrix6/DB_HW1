{
 "cells": [
  {
   "cell_type": "markdown",
   "metadata": {},
   "source": [
    "* Домашние задание №1 Гриднева Константина Александровича\n",
    "Дан файл с данными по клиентам и транзакциям: customer_and_transaction.xlsx.\n",
    "Необходимо выполнить следующие пункты:\n",
    "(2 балла) Продумать структуру базы данных и отрисовать в редакторе.\n",
    "(2 балла) Нормализовать базу данных (1НФ — 3НФ), описав, к какой нормальной форме приводится таблица и почему таблица в этой нормальной форме изначально не находилась.\n",
    "(3 балла) Создать все таблицы в DBeaver, указав первичные ключи к таблицам, правильные типы данных, могут ли поля быть пустыми или нет (использовать команду CREATE TABLE).\n",
    "(3 балла) Загрузить данные в таблицы в соответствии с созданной структурой (использовать команду INSERT INTO или загрузить файлы, используя возможности инструмента DBeaver; в случае загрузки файлами приложить скрины, что данные действительно были залиты)."
   ]
  },
  {
   "cell_type": "markdown",
   "metadata": {},
   "source": [
    "Задание 1 (Продумать структуру базы данных и отрисовать в редакторе.)\n",
    "\n",
    "Table customers {\n",
    "  id integer [primary key]\n",
    "  first_name varchar\n",
    "  last_name varchar\n",
    "  gender varchar\n",
    "  DOB timestamp\n",
    "  job_id integer\n",
    "  wealth_segment varchar\n",
    "  deceased_indicator varchar\n",
    "  owns_car varchar\n",
    "  address varchar\n",
    "  postcode integer\n",
    "  state varchar\n",
    "  country varchar\n",
    "  property_valuation integer\n",
    "}\n",
    "\n",
    "Table transactions {\n",
    "  id integer [primary key]\n",
    "  customer_id integer\n",
    "  transaction_date timestamp\n",
    "  online_order bool\n",
    "  order_status varchar\n",
    "  id_product integer\n",
    "}\n",
    "\n",
    "Table products {\n",
    "  id integer [primary key]\n",
    "  product_id integer\n",
    "  brand varchar\n",
    "  product_line varchar\n",
    "  product_class varchar\n",
    "  product_size varchar\n",
    "  standard_cost float\n",
    "  list_price float\n",
    "}\n",
    "\n",
    "Table jobs {\n",
    "  id integer [primary key]\n",
    "  job_title varchar\n",
    "  job_industry_category varchar\n",
    "}\n",
    "\n",
    "\n",
    "\n",
    "Ref: \"products\".\"id\" < \"transactions\".\"id_product\"\n",
    "\n",
    "Ref: \"customers\".\"id\" < \"transactions\".\"customer_id\"\n",
    "\n",
    "Ref: \"customers\".\"job_id\" < \"jobs\".\"id\""
   ]
  },
  {
   "cell_type": "markdown",
   "metadata": {},
   "source": [
    "Задание 2 (Нормализовать базу данных (1НФ — 3НФ), описав, к какой нормальной форме приводится таблица и почему таблица в этой нормальной форме изначально не находилась.)\n",
    "\n",
    "1НФ - есть\n",
    "2НФ - есть\n",
    "3НФ - В таблице Покупатели, работа покупателей и продукты зависят не напрямую от id транзакции.\n",
    "Вынесем их в отдельные таблицы\n",
    "\n",
    "Задание 3 (Создать все таблицы в DBeaver, указав первичные ключи к таблицам, правильные типы данных, могут ли поля быть пустыми или нет (использовать команду CREATE TABLE).)"
   ]
  },
  {
   "cell_type": "code",
   "execution_count": null,
   "metadata": {},
   "outputs": [],
   "source": [
    "import psycopg2 as pg\n",
    "import pandas as pd\n",
    "import numpy as np"
   ]
  },
  {
   "cell_type": "code",
   "execution_count": null,
   "metadata": {},
   "outputs": [],
   "source": [
    "\n",
    "def create_tables():\n",
    "    \n",
    "    commands = (\n",
    "    \"\"\" \n",
    "    CREATE TABLE jobs (\n",
    "        \"id\" integer PRIMARY KEY,\n",
    "        \"job_title\" varchar,\n",
    "        \"job_industry_category\" varchar\n",
    "    )\n",
    "    \"\"\"\n",
    "    ,\n",
    "\n",
    "    \"\"\" \n",
    "    CREATE TABLE products (\n",
    "        \"id\" integer PRIMARY KEY,\n",
    "        \"product_id\" integer NOT NULL,\n",
    "        \"brand\" varchar,\n",
    "        \"product_line\" varchar,\n",
    "        \"product_class\" varchar,\n",
    "        \"product_size\" varchar,\n",
    "        \"standard_cost\" float,\n",
    "        \"list_price\" float\n",
    "    )\n",
    "    \"\"\"\n",
    "    ,\n",
    "\n",
    "    \"\"\"\n",
    "    CREATE TABLE customers (\n",
    "        \"id\" integer PRIMARY KEY,\n",
    "        \"first_name\" varchar,\n",
    "        \"last_name\" varchar,\n",
    "        \"gender\" varchar,\n",
    "        \"dob\" varchar,\n",
    "        \"job_id\" integer NOT NULL,\n",
    "        \"wealth_segment\" varchar,\n",
    "        \"deceased_indicator\" varchar,\n",
    "        \"owns_car\" varchar,\n",
    "        \"address\" varchar,\n",
    "        \"postcode\" integer,\n",
    "        \"state\" varchar,\n",
    "        \"country\" varchar,\n",
    "        \"property_valuation\" integer,\n",
    "        FOREIGN KEY (\"job_id\") REFERENCES jobs(\"id\")\n",
    "    )\n",
    "    \"\"\"\n",
    "    ,\n",
    "\n",
    "    \"\"\"\n",
    "    CREATE TABLE transactions (\n",
    "        \"id\" integer PRIMARY KEY,\n",
    "        \"customer_id\" integer,\n",
    "        \"transaction_date\" timestamp,\n",
    "        \"online_order\" varchar,\n",
    "        \"order_status\" varchar,\n",
    "        \"id_product\" integer,\n",
    "        FOREIGN KEY (\"customer_id\") REFERENCES customers(\"id\"),\n",
    "        FOREIGN KEY (\"id_product\") REFERENCES products(\"id\")\n",
    "    )\n",
    "    \"\"\"\n",
    "    )\n",
    "    try:\n",
    "        with pg.connect(database=\"HW1\",\n",
    "                        user=\"HW_user\",\n",
    "                        password=\"123456\",\n",
    "                        host=\"localhost\",\n",
    "                        port=\"5433\") as conn:\n",
    "            with conn.cursor() as cur:\n",
    "                    for command in commands:\n",
    "                        cur.execute(command)\n",
    "    except (pg.DatabaseError, Exception) as error:\n",
    "        print(error)\n",
    "        \n",
    "create_tables()"
   ]
  },
  {
   "cell_type": "code",
   "execution_count": null,
   "metadata": {},
   "outputs": [],
   "source": [
    "db_transaction = pd.read_excel(\"data/customer_and_transaction__2.xlsx\", sheet_name = \"transaction\")\n",
    "db_customer = pd.read_excel(\"data/customer_and_transaction__2.xlsx\", sheet_name = \"customer\")"
   ]
  },
  {
   "cell_type": "code",
   "execution_count": null,
   "metadata": {},
   "outputs": [],
   "source": [
    "db_jobs = db_customer.copy()\n",
    "\n",
    "db_jobs = db_jobs.drop(columns=[\"customer_id\", \"first_name\", \"last_name\", \"gender\", \"DOB\", \"wealth_segment\", \"deceased_indicator\", \"owns_car\", \"address\", \"postcode\", \"state\", \"country\", \"property_valuation\"])\n",
    "db_jobs = db_jobs.drop_duplicates(ignore_index = True)\n",
    "db_jobs['job_industry_category'].fillna(\"nan\", inplace = True)\n",
    "db_jobs['job_title'].fillna(\"nan\", inplace = True)\n",
    "postgres_insert_query = \"\"\" INSERT INTO jobs (id, job_title, job_industry_category)\n",
    "                                       VALUES (%s,%s,%s)\"\"\"\n",
    "try:\n",
    "    with pg.connect(database=\"HW1\",\n",
    "                    user=\"HW_user\",\n",
    "                    password=\"123456\",\n",
    "                    host=\"localhost\",\n",
    "                    port=\"5433\") as conn:\n",
    "        with conn.cursor() as cur:\n",
    "                for i in range(len(db_jobs)):\n",
    "                    values = (i, db_jobs[\"job_title\"][i], db_jobs[\"job_industry_category\"][i])\n",
    "                    cur.execute(postgres_insert_query, values)                   \n",
    "except (pg.DatabaseError, Exception) as error:\n",
    "    print(error)\n",
    "    \n",
    "\n"
   ]
  },
  {
   "cell_type": "code",
   "execution_count": null,
   "metadata": {},
   "outputs": [],
   "source": [
    "db_customer[\"job_id\"] = 0\n",
    "for i in range(len(db_customer)):\n",
    "    for j in range(len(db_jobs)):\n",
    "        if db_customer[\"job_industry_category\"][i] == db_jobs[\"job_industry_category\"][j]:\n",
    "            db_customer[\"job_id\"][i] = j\n",
    "            continue\n"
   ]
  },
  {
   "cell_type": "code",
   "execution_count": null,
   "metadata": {},
   "outputs": [],
   "source": [
    "for i in range(len(db_customer)):\n",
    "    for j in range(len(db_jobs)):\n",
    "        if db_customer[\"job_title\"][i] == db_jobs[\"job_title\"][j]:\n",
    "            db_customer[\"job_id\"][i] = j"
   ]
  },
  {
   "cell_type": "code",
   "execution_count": null,
   "metadata": {},
   "outputs": [],
   "source": [
    "db_customer = db_customer.drop(columns=[\"job_title\", \"job_industry_category\"])"
   ]
  },
  {
   "cell_type": "code",
   "execution_count": null,
   "metadata": {},
   "outputs": [],
   "source": [
    "db_customer.info()"
   ]
  },
  {
   "cell_type": "code",
   "execution_count": null,
   "metadata": {},
   "outputs": [],
   "source": [
    "postgres_insert_query = \"\"\" INSERT INTO customers (id, first_name, last_name, gender, DOB, job_id, wealth_segment, deceased_indicator, owns_car, address, postcode, state, country, property_valuation)\n",
    "                                       VALUES (%s, %s, %s ,%s ,%s ,%s ,%s ,%s ,%s ,%s ,%s ,%s , %s, %s)\"\"\"\n",
    "try:\n",
    "    with pg.connect(database=\"HW1\",\n",
    "                    user=\"HW_user\",\n",
    "                    password=\"123456\",\n",
    "                    host=\"localhost\",\n",
    "                    port=\"5433\") as conn:\n",
    "        with conn.cursor() as cur:\n",
    "                for i in range(len(db_customer)):\n",
    "                    values = ((str)(db_customer[\"customer_id\"][i]), (str)(db_customer[\"first_name\"][i]), (str)(db_customer[\"last_name\"][i]), (str)(db_customer[\"gender\"][i]), (db_customer[\"DOB\"][i]), \n",
    "                              (str)(db_customer[\"job_id\"][i]), (str)(db_customer[\"wealth_segment\"][i]), (str)(db_customer[\"deceased_indicator\"][i]),\n",
    "                              (str)(db_customer[\"owns_car\"][i]), (str)(db_customer[\"address\"][i]), (str)(db_customer[\"postcode\"][i]), (str)(db_customer[\"state\"][i]), (str)(db_customer[\"country\"][i]), (str)(db_customer[\"property_valuation\"][i]))\n",
    "                    cur.execute(postgres_insert_query, values)                   \n",
    "except (pg.DatabaseError, Exception) as error:\n",
    "    print(error)"
   ]
  },
  {
   "cell_type": "code",
   "execution_count": null,
   "metadata": {},
   "outputs": [],
   "source": [
    "db_products = db_transaction.copy()\n",
    "\n",
    "db_products = db_products.drop(columns=[\"transaction_id\", \"customer_id\", \"transaction_date\", \"online_order\", \"order_status\"])\n",
    "db_products = db_products.drop_duplicates(ignore_index = True)\n",
    "\n",
    "db_products['brand'].fillna(\"nan\", inplace = True)\n",
    "db_products['product_line'].fillna(\"nan\", inplace = True)\n",
    "db_products['product_class'].fillna(\"nan\", inplace = True)\n",
    "db_products['product_size'].fillna(\"nan\", inplace = True)\n",
    "db_products['standard_cost'].fillna(\"nan\", inplace = True)\n"
   ]
  },
  {
   "cell_type": "code",
   "execution_count": null,
   "metadata": {},
   "outputs": [],
   "source": [
    "postgres_insert_query = \"\"\" INSERT INTO products (id, product_id, brand, product_line, product_class, product_size, standard_cost, list_price)\n",
    "                                       VALUES (%s,%s,%s,%s,%s,%s,%s,%s)\"\"\"\n",
    "try:\n",
    "    with pg.connect(database=\"HW1\",\n",
    "                    user=\"HW_user\",\n",
    "                    password=\"123456\",\n",
    "                    host=\"localhost\",\n",
    "                    port=\"5433\") as conn:\n",
    "        with conn.cursor() as cur:\n",
    "                for i in range(len(db_products)):\n",
    "                    values = (i, (str)(db_products[\"product_id\"][i]), (str)(db_products[\"brand\"][i]), (str)(db_products[\"product_line\"][i]), (str)(db_products[\"product_class\"][i]),\n",
    "                              (str)(db_products[\"product_size\"][i]), (str)(db_products[\"standard_cost\"][i]), (str)(db_products[\"list_price\"][i]))\n",
    "                    cur.execute(postgres_insert_query, values)                   \n",
    "except (pg.DatabaseError, Exception) as error:\n",
    "    print(error)"
   ]
  },
  {
   "cell_type": "code",
   "execution_count": null,
   "metadata": {},
   "outputs": [],
   "source": [
    "db_transaction[\"product_id\"] = 0\n",
    "db_transaction.info()\n",
    "\n",
    "for i in range(len(db_transaction)):\n",
    "    for j in range(len(db_products)):\n",
    "        if db_transaction[\"product_id\"][i] == db_transaction[\"product_id\"][j]:\n",
    "            if db_transaction[\"brand\"][i] == db_transaction[\"brand\"][j]:\n",
    "                if db_transaction[\"product_line\"][i] == db_transaction[\"product_line\"][j]:\n",
    "                    if db_transaction[\"product_class\"][i] == db_transaction[\"product_class\"][j]:\n",
    "                        if db_transaction[\"product_size\"][i] == db_transaction[\"product_size\"][j]:\n",
    "                            if db_transaction[\"standard_cost\"][i] == db_transaction[\"standard_cost\"][j]:\n",
    "                                if db_transaction[\"list_price\"][i] == db_transaction[\"list_price\"][j]:\n",
    "                                    db_transaction[\"product_id\"][i] = j\n",
    "                                    continue"
   ]
  },
  {
   "cell_type": "code",
   "execution_count": null,
   "metadata": {},
   "outputs": [],
   "source": [
    "db_transaction = db_transaction.drop(columns=[ \"brand\", \"product_line\", \"product_class\", \"product_size\", \"standard_cost\", \"list_price\"])"
   ]
  },
  {
   "cell_type": "code",
   "execution_count": null,
   "metadata": {},
   "outputs": [],
   "source": [
    "db_transaction.info()"
   ]
  },
  {
   "cell_type": "code",
   "execution_count": null,
   "metadata": {},
   "outputs": [],
   "source": [
    "postgres_insert_query = \"\"\" INSERT INTO transactions (id, customer_id, transaction_date, online_order, order_status, id_product)\n",
    "                                       VALUES (%s,%s,%s,%s,%s,%s)\"\"\"\n",
    "try:\n",
    "    with pg.connect(database=\"HW1\",\n",
    "                    user=\"HW_user\",\n",
    "                    password=\"123456\",\n",
    "                    host=\"localhost\",\n",
    "                    port=\"5433\") as conn:\n",
    "        with conn.cursor() as cur:\n",
    "                for i in range(len(db_transaction)):\n",
    "                    values = ((str)(db_transaction[\"transaction_id\"][i]), (str)(db_transaction[\"customer_id\"][i]), (db_transaction[\"transaction_date\"][i]), (str)(db_transaction[\"online_order\"][i]),\n",
    "                              (str)(db_transaction[\"order_status\"][i]), (str)(db_transaction[\"product_id\"][i]))\n",
    "                    cur.execute(postgres_insert_query, values)                   \n",
    "except (pg.DatabaseError, Exception) as error:\n",
    "    print(error)"
   ]
  },
  {
   "cell_type": "code",
   "execution_count": null,
   "metadata": {},
   "outputs": [],
   "source": [
    "postgres_insert_query = \"\"\" INSERT INTO customers (id, first_name, last_name, gender, DOB, job_id, wealth_segment, deceased_indicator, owns_car, address, postcode, state, country, property_valuation)\n",
    "                                       VALUES (%s, %s, %s ,%s ,%s ,%s ,%s ,%s ,%s ,%s ,%s ,%s , %s, %s)\"\"\"\n",
    "try:\n",
    "    with pg.connect(database=\"HW1\",\n",
    "                    user=\"HW_user\",\n",
    "                    password=\"123456\",\n",
    "                    host=\"localhost\",\n",
    "                    port=\"5433\") as conn:\n",
    "        with conn.cursor() as cur:\n",
    "                values = ((str)(5034), \"nan\", \"nan\",\"nan\", \"nan\", \n",
    "                            0, \"nan\", \"nan\",\n",
    "                            \"nan\", \"nan\", 0, \"nan\", \"nan\", 0)\n",
    "                cur.execute(postgres_insert_query, values)                   \n",
    "except (pg.DatabaseError, Exception) as error:\n",
    "    print(error)"
   ]
  },
  {
   "cell_type": "code",
   "execution_count": null,
   "metadata": {},
   "outputs": [],
   "source": [
    "postgres_insert_query = \"\"\" INSERT INTO transactions (id, customer_id, transaction_date, online_order, order_status, id_product)\n",
    "                                       VALUES (%s,%s,%s,%s,%s,%s)\"\"\"\n",
    "try:\n",
    "    with pg.connect(database=\"HW1\",\n",
    "                    user=\"HW_user\",\n",
    "                    password=\"123456\",\n",
    "                    host=\"localhost\",\n",
    "                    port=\"5433\") as conn:\n",
    "        with conn.cursor() as cur:\n",
    "                for i in range(len(db_transaction)):\n",
    "                    values = ((str)(db_transaction[\"transaction_id\"][i]), (str)(db_transaction[\"customer_id\"][i]), (db_transaction[\"transaction_date\"][i]), (str)(db_transaction[\"online_order\"][i]),\n",
    "                              (str)(db_transaction[\"order_status\"][i]), (str)(db_transaction[\"product_id\"][i]))\n",
    "                    cur.execute(postgres_insert_query, values)                   \n",
    "except (pg.DatabaseError, Exception) as error:\n",
    "    print(error)"
   ]
  },
  {
   "cell_type": "markdown",
   "metadata": {},
   "source": []
  }
 ],
 "metadata": {
  "kernelspec": {
   "display_name": "Python 3",
   "language": "python",
   "name": "python3"
  },
  "language_info": {
   "codemirror_mode": {
    "name": "ipython",
    "version": 3
   },
   "file_extension": ".py",
   "mimetype": "text/x-python",
   "name": "python",
   "nbconvert_exporter": "python",
   "pygments_lexer": "ipython3",
   "version": "3.11.5"
  }
 },
 "nbformat": 4,
 "nbformat_minor": 2
}
